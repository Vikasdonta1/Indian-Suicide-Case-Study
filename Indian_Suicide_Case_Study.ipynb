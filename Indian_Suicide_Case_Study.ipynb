{
  "cells": [
    {
      "cell_type": "markdown",
      "metadata": {
        "id": "view-in-github",
        "colab_type": "text"
      },
      "source": [
        "<a href=\"https://colab.research.google.com/github/Vikasdonta1/Indian-Suicide-Case-Study/blob/main/Indian_Suicide_Case_Study.ipynb\" target=\"_parent\"><img src=\"https://colab.research.google.com/assets/colab-badge.svg\" alt=\"Open In Colab\"/></a>"
      ]
    },
    {
      "cell_type": "markdown",
      "metadata": {
        "id": "jBuQ5L04AOmF"
      },
      "source": [
        "### Import Packages"
      ]
    },
    {
      "cell_type": "code",
      "execution_count": null,
      "metadata": {
        "id": "pP27qAIFAOmG"
      },
      "outputs": [],
      "source": [
        "import numpy as np\n",
        "import pandas as pd\n",
        "import matplotlib.pyplot as plt"
      ]
    },
    {
      "cell_type": "code",
      "source": [
        "from google.colab import files\n",
        " \n",
        " \n",
        "uploaded = files.upload()"
      ],
      "metadata": {
        "colab": {
          "base_uri": "https://localhost:8080/",
          "height": 74
        },
        "id": "sQLuA5gZAgPj",
        "outputId": "12fd98cb-9776-42e6-f5e5-82fbf10da19a"
      },
      "execution_count": 1,
      "outputs": [
        {
          "output_type": "display_data",
          "data": {
            "text/plain": [
              "<IPython.core.display.HTML object>"
            ],
            "text/html": [
              "\n",
              "     <input type=\"file\" id=\"files-8ba5b89c-474b-4f19-8952-c695f5ee3f17\" name=\"files[]\" multiple disabled\n",
              "        style=\"border:none\" />\n",
              "     <output id=\"result-8ba5b89c-474b-4f19-8952-c695f5ee3f17\">\n",
              "      Upload widget is only available when the cell has been executed in the\n",
              "      current browser session. Please rerun this cell to enable.\n",
              "      </output>\n",
              "      <script>// Copyright 2017 Google LLC\n",
              "//\n",
              "// Licensed under the Apache License, Version 2.0 (the \"License\");\n",
              "// you may not use this file except in compliance with the License.\n",
              "// You may obtain a copy of the License at\n",
              "//\n",
              "//      http://www.apache.org/licenses/LICENSE-2.0\n",
              "//\n",
              "// Unless required by applicable law or agreed to in writing, software\n",
              "// distributed under the License is distributed on an \"AS IS\" BASIS,\n",
              "// WITHOUT WARRANTIES OR CONDITIONS OF ANY KIND, either express or implied.\n",
              "// See the License for the specific language governing permissions and\n",
              "// limitations under the License.\n",
              "\n",
              "/**\n",
              " * @fileoverview Helpers for google.colab Python module.\n",
              " */\n",
              "(function(scope) {\n",
              "function span(text, styleAttributes = {}) {\n",
              "  const element = document.createElement('span');\n",
              "  element.textContent = text;\n",
              "  for (const key of Object.keys(styleAttributes)) {\n",
              "    element.style[key] = styleAttributes[key];\n",
              "  }\n",
              "  return element;\n",
              "}\n",
              "\n",
              "// Max number of bytes which will be uploaded at a time.\n",
              "const MAX_PAYLOAD_SIZE = 100 * 1024;\n",
              "\n",
              "function _uploadFiles(inputId, outputId) {\n",
              "  const steps = uploadFilesStep(inputId, outputId);\n",
              "  const outputElement = document.getElementById(outputId);\n",
              "  // Cache steps on the outputElement to make it available for the next call\n",
              "  // to uploadFilesContinue from Python.\n",
              "  outputElement.steps = steps;\n",
              "\n",
              "  return _uploadFilesContinue(outputId);\n",
              "}\n",
              "\n",
              "// This is roughly an async generator (not supported in the browser yet),\n",
              "// where there are multiple asynchronous steps and the Python side is going\n",
              "// to poll for completion of each step.\n",
              "// This uses a Promise to block the python side on completion of each step,\n",
              "// then passes the result of the previous step as the input to the next step.\n",
              "function _uploadFilesContinue(outputId) {\n",
              "  const outputElement = document.getElementById(outputId);\n",
              "  const steps = outputElement.steps;\n",
              "\n",
              "  const next = steps.next(outputElement.lastPromiseValue);\n",
              "  return Promise.resolve(next.value.promise).then((value) => {\n",
              "    // Cache the last promise value to make it available to the next\n",
              "    // step of the generator.\n",
              "    outputElement.lastPromiseValue = value;\n",
              "    return next.value.response;\n",
              "  });\n",
              "}\n",
              "\n",
              "/**\n",
              " * Generator function which is called between each async step of the upload\n",
              " * process.\n",
              " * @param {string} inputId Element ID of the input file picker element.\n",
              " * @param {string} outputId Element ID of the output display.\n",
              " * @return {!Iterable<!Object>} Iterable of next steps.\n",
              " */\n",
              "function* uploadFilesStep(inputId, outputId) {\n",
              "  const inputElement = document.getElementById(inputId);\n",
              "  inputElement.disabled = false;\n",
              "\n",
              "  const outputElement = document.getElementById(outputId);\n",
              "  outputElement.innerHTML = '';\n",
              "\n",
              "  const pickedPromise = new Promise((resolve) => {\n",
              "    inputElement.addEventListener('change', (e) => {\n",
              "      resolve(e.target.files);\n",
              "    });\n",
              "  });\n",
              "\n",
              "  const cancel = document.createElement('button');\n",
              "  inputElement.parentElement.appendChild(cancel);\n",
              "  cancel.textContent = 'Cancel upload';\n",
              "  const cancelPromise = new Promise((resolve) => {\n",
              "    cancel.onclick = () => {\n",
              "      resolve(null);\n",
              "    };\n",
              "  });\n",
              "\n",
              "  // Wait for the user to pick the files.\n",
              "  const files = yield {\n",
              "    promise: Promise.race([pickedPromise, cancelPromise]),\n",
              "    response: {\n",
              "      action: 'starting',\n",
              "    }\n",
              "  };\n",
              "\n",
              "  cancel.remove();\n",
              "\n",
              "  // Disable the input element since further picks are not allowed.\n",
              "  inputElement.disabled = true;\n",
              "\n",
              "  if (!files) {\n",
              "    return {\n",
              "      response: {\n",
              "        action: 'complete',\n",
              "      }\n",
              "    };\n",
              "  }\n",
              "\n",
              "  for (const file of files) {\n",
              "    const li = document.createElement('li');\n",
              "    li.append(span(file.name, {fontWeight: 'bold'}));\n",
              "    li.append(span(\n",
              "        `(${file.type || 'n/a'}) - ${file.size} bytes, ` +\n",
              "        `last modified: ${\n",
              "            file.lastModifiedDate ? file.lastModifiedDate.toLocaleDateString() :\n",
              "                                    'n/a'} - `));\n",
              "    const percent = span('0% done');\n",
              "    li.appendChild(percent);\n",
              "\n",
              "    outputElement.appendChild(li);\n",
              "\n",
              "    const fileDataPromise = new Promise((resolve) => {\n",
              "      const reader = new FileReader();\n",
              "      reader.onload = (e) => {\n",
              "        resolve(e.target.result);\n",
              "      };\n",
              "      reader.readAsArrayBuffer(file);\n",
              "    });\n",
              "    // Wait for the data to be ready.\n",
              "    let fileData = yield {\n",
              "      promise: fileDataPromise,\n",
              "      response: {\n",
              "        action: 'continue',\n",
              "      }\n",
              "    };\n",
              "\n",
              "    // Use a chunked sending to avoid message size limits. See b/62115660.\n",
              "    let position = 0;\n",
              "    do {\n",
              "      const length = Math.min(fileData.byteLength - position, MAX_PAYLOAD_SIZE);\n",
              "      const chunk = new Uint8Array(fileData, position, length);\n",
              "      position += length;\n",
              "\n",
              "      const base64 = btoa(String.fromCharCode.apply(null, chunk));\n",
              "      yield {\n",
              "        response: {\n",
              "          action: 'append',\n",
              "          file: file.name,\n",
              "          data: base64,\n",
              "        },\n",
              "      };\n",
              "\n",
              "      let percentDone = fileData.byteLength === 0 ?\n",
              "          100 :\n",
              "          Math.round((position / fileData.byteLength) * 100);\n",
              "      percent.textContent = `${percentDone}% done`;\n",
              "\n",
              "    } while (position < fileData.byteLength);\n",
              "  }\n",
              "\n",
              "  // All done.\n",
              "  yield {\n",
              "    response: {\n",
              "      action: 'complete',\n",
              "    }\n",
              "  };\n",
              "}\n",
              "\n",
              "scope.google = scope.google || {};\n",
              "scope.google.colab = scope.google.colab || {};\n",
              "scope.google.colab._files = {\n",
              "  _uploadFiles,\n",
              "  _uploadFilesContinue,\n",
              "};\n",
              "})(self);\n",
              "</script> "
            ]
          },
          "metadata": {}
        },
        {
          "output_type": "stream",
          "name": "stdout",
          "text": [
            "Saving Suicidesindia2001-2012.csv to Suicidesindia2001-2012.csv\n"
          ]
        }
      ]
    },
    {
      "cell_type": "markdown",
      "metadata": {
        "id": "pa21wynnAOmH"
      },
      "source": [
        "### Read CSV File"
      ]
    },
    {
      "cell_type": "code",
      "execution_count": null,
      "metadata": {
        "id": "SSfEw7FtAOmH",
        "outputId": "b1575e9f-a7c4-4abf-f196-23f031ae00a6"
      },
      "outputs": [
        {
          "data": {
            "text/html": [
              "<div>\n",
              "<style scoped>\n",
              "    .dataframe tbody tr th:only-of-type {\n",
              "        vertical-align: middle;\n",
              "    }\n",
              "\n",
              "    .dataframe tbody tr th {\n",
              "        vertical-align: top;\n",
              "    }\n",
              "\n",
              "    .dataframe thead th {\n",
              "        text-align: right;\n",
              "    }\n",
              "</style>\n",
              "<table border=\"1\" class=\"dataframe\">\n",
              "  <thead>\n",
              "    <tr style=\"text-align: right;\">\n",
              "      <th></th>\n",
              "      <th>State</th>\n",
              "      <th>Year</th>\n",
              "      <th>Type_code</th>\n",
              "      <th>Type</th>\n",
              "      <th>Gender</th>\n",
              "      <th>Age_group</th>\n",
              "      <th>Total</th>\n",
              "    </tr>\n",
              "  </thead>\n",
              "  <tbody>\n",
              "    <tr>\n",
              "      <th>0</th>\n",
              "      <td>A &amp; N Islands</td>\n",
              "      <td>2001</td>\n",
              "      <td>Causes</td>\n",
              "      <td>Illness (Aids/STD)</td>\n",
              "      <td>Female</td>\n",
              "      <td>0-14</td>\n",
              "      <td>0</td>\n",
              "    </tr>\n",
              "    <tr>\n",
              "      <th>1</th>\n",
              "      <td>A &amp; N Islands</td>\n",
              "      <td>2001</td>\n",
              "      <td>Causes</td>\n",
              "      <td>Bankruptcy or Sudden change in Economic</td>\n",
              "      <td>Female</td>\n",
              "      <td>0-14</td>\n",
              "      <td>0</td>\n",
              "    </tr>\n",
              "    <tr>\n",
              "      <th>2</th>\n",
              "      <td>A &amp; N Islands</td>\n",
              "      <td>2001</td>\n",
              "      <td>Causes</td>\n",
              "      <td>Cancellation/Non-Settlement of Marriage</td>\n",
              "      <td>Female</td>\n",
              "      <td>0-14</td>\n",
              "      <td>0</td>\n",
              "    </tr>\n",
              "    <tr>\n",
              "      <th>3</th>\n",
              "      <td>A &amp; N Islands</td>\n",
              "      <td>2001</td>\n",
              "      <td>Causes</td>\n",
              "      <td>Physical Abuse (Rape/Incest Etc.)</td>\n",
              "      <td>Female</td>\n",
              "      <td>0-14</td>\n",
              "      <td>0</td>\n",
              "    </tr>\n",
              "    <tr>\n",
              "      <th>4</th>\n",
              "      <td>A &amp; N Islands</td>\n",
              "      <td>2001</td>\n",
              "      <td>Causes</td>\n",
              "      <td>Dowry Dispute</td>\n",
              "      <td>Female</td>\n",
              "      <td>0-14</td>\n",
              "      <td>0</td>\n",
              "    </tr>\n",
              "    <tr>\n",
              "      <th>...</th>\n",
              "      <td>...</td>\n",
              "      <td>...</td>\n",
              "      <td>...</td>\n",
              "      <td>...</td>\n",
              "      <td>...</td>\n",
              "      <td>...</td>\n",
              "      <td>...</td>\n",
              "    </tr>\n",
              "    <tr>\n",
              "      <th>237514</th>\n",
              "      <td>West Bengal</td>\n",
              "      <td>2012</td>\n",
              "      <td>Social_Status</td>\n",
              "      <td>Seperated</td>\n",
              "      <td>Male</td>\n",
              "      <td>0-100+</td>\n",
              "      <td>149</td>\n",
              "    </tr>\n",
              "    <tr>\n",
              "      <th>237515</th>\n",
              "      <td>West Bengal</td>\n",
              "      <td>2012</td>\n",
              "      <td>Social_Status</td>\n",
              "      <td>Widowed/Widower</td>\n",
              "      <td>Male</td>\n",
              "      <td>0-100+</td>\n",
              "      <td>233</td>\n",
              "    </tr>\n",
              "    <tr>\n",
              "      <th>237516</th>\n",
              "      <td>West Bengal</td>\n",
              "      <td>2012</td>\n",
              "      <td>Social_Status</td>\n",
              "      <td>Married</td>\n",
              "      <td>Male</td>\n",
              "      <td>0-100+</td>\n",
              "      <td>5451</td>\n",
              "    </tr>\n",
              "    <tr>\n",
              "      <th>237517</th>\n",
              "      <td>West Bengal</td>\n",
              "      <td>2012</td>\n",
              "      <td>Social_Status</td>\n",
              "      <td>Divorcee</td>\n",
              "      <td>Male</td>\n",
              "      <td>0-100+</td>\n",
              "      <td>189</td>\n",
              "    </tr>\n",
              "    <tr>\n",
              "      <th>237518</th>\n",
              "      <td>West Bengal</td>\n",
              "      <td>2012</td>\n",
              "      <td>Social_Status</td>\n",
              "      <td>Never Married</td>\n",
              "      <td>Male</td>\n",
              "      <td>0-100+</td>\n",
              "      <td>2658</td>\n",
              "    </tr>\n",
              "  </tbody>\n",
              "</table>\n",
              "<p>237519 rows × 7 columns</p>\n",
              "</div>"
            ],
            "text/plain": [
              "                State  Year      Type_code  \\\n",
              "0       A & N Islands  2001         Causes   \n",
              "1       A & N Islands  2001         Causes   \n",
              "2       A & N Islands  2001         Causes   \n",
              "3       A & N Islands  2001         Causes   \n",
              "4       A & N Islands  2001         Causes   \n",
              "...               ...   ...            ...   \n",
              "237514    West Bengal  2012  Social_Status   \n",
              "237515    West Bengal  2012  Social_Status   \n",
              "237516    West Bengal  2012  Social_Status   \n",
              "237517    West Bengal  2012  Social_Status   \n",
              "237518    West Bengal  2012  Social_Status   \n",
              "\n",
              "                                           Type  Gender Age_group  Total  \n",
              "0                            Illness (Aids/STD)  Female      0-14      0  \n",
              "1       Bankruptcy or Sudden change in Economic  Female      0-14      0  \n",
              "2       Cancellation/Non-Settlement of Marriage  Female      0-14      0  \n",
              "3             Physical Abuse (Rape/Incest Etc.)  Female      0-14      0  \n",
              "4                                 Dowry Dispute  Female      0-14      0  \n",
              "...                                         ...     ...       ...    ...  \n",
              "237514                                Seperated    Male    0-100+    149  \n",
              "237515                          Widowed/Widower    Male    0-100+    233  \n",
              "237516                                  Married    Male    0-100+   5451  \n",
              "237517                                 Divorcee    Male    0-100+    189  \n",
              "237518                            Never Married    Male    0-100+   2658  \n",
              "\n",
              "[237519 rows x 7 columns]"
            ]
          },
          "execution_count": 3,
          "metadata": {},
          "output_type": "execute_result"
        }
      ],
      "source": [
        "data = pd.read_csv('Suicidesindia2001-2012.csv')\n",
        "data"
      ]
    },
    {
      "cell_type": "code",
      "execution_count": null,
      "metadata": {
        "id": "nTfedo7KAOmI",
        "outputId": "b685ab5e-554c-4b8a-8b80-18eb5b18d100"
      },
      "outputs": [
        {
          "data": {
            "text/plain": [
              "(237519, 7)"
            ]
          },
          "execution_count": 4,
          "metadata": {},
          "output_type": "execute_result"
        }
      ],
      "source": [
        "data.shape"
      ]
    },
    {
      "cell_type": "code",
      "execution_count": null,
      "metadata": {
        "id": "civA2-wbAOmI",
        "outputId": "60aa7112-8b40-4ebb-86e1-10b1399f12b9"
      },
      "outputs": [
        {
          "name": "stdout",
          "output_type": "stream",
          "text": [
            "<class 'pandas.core.frame.DataFrame'>\n",
            "RangeIndex: 237519 entries, 0 to 237518\n",
            "Data columns (total 7 columns):\n",
            "State        237519 non-null object\n",
            "Year         237519 non-null int64\n",
            "Type_code    237519 non-null object\n",
            "Type         237519 non-null object\n",
            "Gender       237519 non-null object\n",
            "Age_group    237519 non-null object\n",
            "Total        237519 non-null int64\n",
            "dtypes: int64(2), object(5)\n",
            "memory usage: 12.7+ MB\n"
          ]
        }
      ],
      "source": [
        "data.info()"
      ]
    },
    {
      "cell_type": "code",
      "execution_count": null,
      "metadata": {
        "id": "x74NudKmAOmJ",
        "outputId": "bf89913f-2892-45d9-c54f-b08e5a013f65"
      },
      "outputs": [
        {
          "data": {
            "text/plain": [
              "State        0\n",
              "Year         0\n",
              "Type_code    0\n",
              "Type         0\n",
              "Gender       0\n",
              "Age_group    0\n",
              "Total        0\n",
              "dtype: int64"
            ]
          },
          "execution_count": 7,
          "metadata": {},
          "output_type": "execute_result"
        }
      ],
      "source": [
        "data.isnull().sum()"
      ]
    },
    {
      "cell_type": "markdown",
      "metadata": {
        "id": "r4sunveWAOmJ"
      },
      "source": [
        "### Total Suicides in India"
      ]
    },
    {
      "cell_type": "code",
      "execution_count": null,
      "metadata": {
        "id": "fOt8fhn0AOmJ",
        "outputId": "008ee855-b30c-4de4-b3d8-a54261064b9a"
      },
      "outputs": [
        {
          "data": {
            "text/plain": [
              "0            0\n",
              "1            0\n",
              "2            0\n",
              "3            0\n",
              "4            0\n",
              "          ... \n",
              "237514     149\n",
              "237515     233\n",
              "237516    5451\n",
              "237517     189\n",
              "237518    2658\n",
              "Name: Total, Length: 237519, dtype: int64"
            ]
          },
          "execution_count": 9,
          "metadata": {},
          "output_type": "execute_result"
        }
      ],
      "source": [
        "data['Total']"
      ]
    },
    {
      "cell_type": "code",
      "execution_count": null,
      "metadata": {
        "id": "hV8WZYLOAOmK",
        "outputId": "2c27fb9f-3707-44ae-8b4e-7f6a5a7a9793"
      },
      "outputs": [
        {
          "data": {
            "text/plain": [
              "0            0\n",
              "1            0\n",
              "2            0\n",
              "3            0\n",
              "4            0\n",
              "          ... \n",
              "237514     149\n",
              "237515     233\n",
              "237516    5451\n",
              "237517     189\n",
              "237518    2658\n",
              "Name: Total, Length: 237519, dtype: int64"
            ]
          },
          "execution_count": 11,
          "metadata": {},
          "output_type": "execute_result"
        }
      ],
      "source": [
        "data.Total"
      ]
    },
    {
      "cell_type": "code",
      "execution_count": null,
      "metadata": {
        "id": "rNCZ6YuRAOmK",
        "outputId": "d49b79f7-ed48-4b99-b618-2d24aeb371a3"
      },
      "outputs": [
        {
          "data": {
            "text/plain": [
              "0            0\n",
              "1            0\n",
              "2            0\n",
              "3            0\n",
              "4            0\n",
              "          ... \n",
              "237514     149\n",
              "237515     233\n",
              "237516    5451\n",
              "237517     189\n",
              "237518    2658\n",
              "Name: Total, Length: 237519, dtype: int64"
            ]
          },
          "execution_count": 13,
          "metadata": {},
          "output_type": "execute_result"
        }
      ],
      "source": [
        "data.iloc[:,6]"
      ]
    },
    {
      "cell_type": "code",
      "execution_count": null,
      "metadata": {
        "id": "l9W_VLVjAOmK",
        "outputId": "4238f6f5-2cf5-4da4-b8c2-310020bd1d61"
      },
      "outputs": [
        {
          "data": {
            "text/plain": [
              "0            0\n",
              "1            0\n",
              "2            0\n",
              "3            0\n",
              "4            0\n",
              "          ... \n",
              "237514     149\n",
              "237515     233\n",
              "237516    5451\n",
              "237517     189\n",
              "237518    2658\n",
              "Name: Total, Length: 237519, dtype: int64"
            ]
          },
          "execution_count": 16,
          "metadata": {},
          "output_type": "execute_result"
        }
      ],
      "source": [
        "data.loc[:,'Total']"
      ]
    },
    {
      "cell_type": "code",
      "execution_count": null,
      "metadata": {
        "id": "ZjUVBmvxAOmK",
        "outputId": "2d4485b2-e26e-4242-8feb-ebc4ef0a0a25"
      },
      "outputs": [
        {
          "data": {
            "text/plain": [
              "13071734"
            ]
          },
          "execution_count": 18,
          "metadata": {},
          "output_type": "execute_result"
        }
      ],
      "source": [
        "data.Total.sum()"
      ]
    },
    {
      "cell_type": "markdown",
      "metadata": {
        "id": "bK7BoFEEAOmK"
      },
      "source": [
        "### Total Suicides In India State Wise"
      ]
    },
    {
      "cell_type": "code",
      "execution_count": null,
      "metadata": {
        "id": "UoGfbBEbAOmL",
        "outputId": "02c697fd-79e9-4e50-fade-b56229d96dba"
      },
      "outputs": [
        {
          "data": {
            "text/plain": [
              "46350"
            ]
          },
          "execution_count": 23,
          "metadata": {},
          "output_type": "execute_result"
        }
      ],
      "source": [
        "index = data['State']=='Punjab'\n",
        "data[index].Total.sum()"
      ]
    },
    {
      "cell_type": "code",
      "execution_count": null,
      "metadata": {
        "id": "1Hn8s2IgAOmL",
        "outputId": "4af4a6de-7d7c-4a23-c7da-d1ac61dae9d0"
      },
      "outputs": [
        {
          "data": {
            "text/plain": [
              "State\n",
              "Total (All India)    2911862\n",
              "Total (States)       2858026\n",
              "Maharashtra           901945\n",
              "West Bengal           849936\n",
              "Tamil Nadu            818691\n",
              "Andhra Pradesh        814059\n",
              "Karnataka             734825\n",
              "Kerala                538946\n",
              "Madhya Pradesh        451535\n",
              "Gujarat               330858\n",
              "Chhattisgarh          302354\n",
              "Odisha                267234\n",
              "Rajasthan             255134\n",
              "Uttar Pradesh         233352\n",
              "Assam                 172276\n",
              "Haryana               147176\n",
              "Delhi (Ut)             84272\n",
              "Total (Uts)            53836\n",
              "Jharkhand              49720\n",
              "Punjab                 46350\n",
              "Bihar                  46214\n",
              "Tripura                45965\n",
              "Puducherry             32144\n",
              "Himachal Pradesh       26562\n",
              "Uttarakhand            18496\n",
              "Goa                    17363\n",
              "Jammu & Kashmir        14821\n",
              "Sikkim                  9606\n",
              "A & N Islands           8109\n",
              "Arunachal Pradesh       6633\n",
              "Meghalaya               5415\n",
              "Chandigarh              5164\n",
              "Mizoram                 4154\n",
              "D & N Haveli            3430\n",
              "Manipur                 2102\n",
              "Nagaland                1728\n",
              "Daman & Diu             1391\n",
              "Lakshadweep               50\n",
              "Name: Total, dtype: int64"
            ]
          },
          "execution_count": 27,
          "metadata": {},
          "output_type": "execute_result"
        }
      ],
      "source": [
        "data.groupby('State').Total.sum().sort_values(ascending=False)"
      ]
    },
    {
      "cell_type": "markdown",
      "metadata": {
        "id": "fU0C8YJPAOmL"
      },
      "source": [
        "### Total Suicides In India Year Wise"
      ]
    },
    {
      "cell_type": "code",
      "execution_count": null,
      "metadata": {
        "id": "MeUDV0KkAOmL",
        "outputId": "9bca7721-36a7-49a7-ae51-3f30d5a7120f"
      },
      "outputs": [
        {
          "data": {
            "text/plain": [
              "Year\n",
              "2001     976464\n",
              "2002     993648\n",
              "2003     997622\n",
              "2004    1023137\n",
              "2005    1025201\n",
              "2006    1062991\n",
              "2007    1103667\n",
              "2008    1125082\n",
              "2009    1144033\n",
              "2010    1211322\n",
              "2011    1219499\n",
              "2012    1189068\n",
              "Name: Total, dtype: int64"
            ]
          },
          "execution_count": 30,
          "metadata": {},
          "output_type": "execute_result"
        }
      ],
      "source": [
        "D = data.groupby('Year').Total.sum()\n",
        "D"
      ]
    },
    {
      "cell_type": "code",
      "execution_count": null,
      "metadata": {
        "id": "65I8UK3MAOmL"
      },
      "outputs": [],
      "source": [
        "x = D.index.values\n",
        "y = D.values"
      ]
    },
    {
      "cell_type": "code",
      "execution_count": null,
      "metadata": {
        "id": "E6AAt89NAOmM",
        "outputId": "9a5fb5fc-111f-479f-f55d-f573ba139260"
      },
      "outputs": [
        {
          "data": {
            "image/png": "[encoded data removed]",
            "text/plain": [
              "<Figure size 432x288 with 1 Axes>"
            ]
          },
          "metadata": {
            "needs_background": "light"
          },
          "output_type": "display_data"
        }
      ],
      "source": [
        "plt.scatter(x,y)\n",
        "plt.show()"
      ]
    },
    {
      "cell_type": "markdown",
      "metadata": {
        "id": "NbV3kxJnAOmM"
      },
      "source": [
        "### Total Suicides In India Gender Wise"
      ]
    },
    {
      "cell_type": "code",
      "execution_count": null,
      "metadata": {
        "id": "h8bwosTEAOmM",
        "outputId": "607e07c6-3f85-4544-9097-f7c5e50e554d"
      },
      "outputs": [
        {
          "data": {
            "text/plain": [
              "Gender\n",
              "Female    4702974\n",
              "Male      8368760\n",
              "Name: Total, dtype: int64"
            ]
          },
          "execution_count": 39,
          "metadata": {},
          "output_type": "execute_result"
        }
      ],
      "source": [
        "data.groupby('Gender').Total.sum()"
      ]
    },
    {
      "cell_type": "markdown",
      "metadata": {
        "id": "UmiY5V_OAOmM"
      },
      "source": [
        "### Total Suicides In India State-Year Wise"
      ]
    },
    {
      "cell_type": "code",
      "execution_count": null,
      "metadata": {
        "id": "go7mRKvWAOmM",
        "outputId": "725e4333-6567-46cd-b648-647296430e4c"
      },
      "outputs": [
        {
          "data": {
            "text/plain": [
              "State          Year\n",
              "A & N Islands  2001      645\n",
              "               2002      720\n",
              "               2003      565\n",
              "               2004      610\n",
              "               2005      695\n",
              "                       ...  \n",
              "West Bengal    2008    74260\n",
              "               2009    73240\n",
              "               2010    80185\n",
              "               2011    82460\n",
              "               2012    44871\n",
              "Name: Total, Length: 456, dtype: int64"
            ]
          },
          "execution_count": 41,
          "metadata": {},
          "output_type": "execute_result"
        }
      ],
      "source": [
        "data.groupby(['State','Year']).Total.sum()"
      ]
    },
    {
      "cell_type": "code",
      "execution_count": null,
      "metadata": {
        "id": "mQ5oaHLFAOmM",
        "outputId": "8cf3427a-66f4-472c-b347-4452ae2ecb21"
      },
      "outputs": [
        {
          "data": {
            "text/plain": [
              "State          Year\n",
              "A & N Islands  2001      645\n",
              "               2002      720\n",
              "               2003      565\n",
              "               2004      610\n",
              "               2005      695\n",
              "                       ...  \n",
              "West Bengal    2008    74260\n",
              "               2009    73240\n",
              "               2010    80185\n",
              "               2011    82460\n",
              "               2012    44871\n",
              "Name: Total, Length: 456, dtype: int64"
            ]
          },
          "execution_count": 42,
          "metadata": {},
          "output_type": "execute_result"
        }
      ],
      "source": [
        "data.groupby(['State','Year'])['Total'].sum()"
      ]
    },
    {
      "cell_type": "code",
      "execution_count": null,
      "metadata": {
        "id": "fPlwaf_9AOmM"
      },
      "outputs": [],
      "source": [
        "data.groupby(['State','Year'])[['Total']].sum().to_html('index.html')\n",
        "data.groupby(['State','Year'])[['Total']].sum().to_csv('index.csv')"
      ]
    },
    {
      "cell_type": "markdown",
      "metadata": {
        "id": "-m_J6Hq2AOmN"
      },
      "source": [
        "### Total Suicides In India State-Gender Wise"
      ]
    },
    {
      "cell_type": "code",
      "execution_count": null,
      "metadata": {
        "id": "k3JpBwl_AOmN",
        "outputId": "122c09ad-2ca4-47a1-a823-31283bdf7e57"
      },
      "outputs": [
        {
          "data": {
            "text/html": [
              "<div>\n",
              "<style scoped>\n",
              "    .dataframe tbody tr th:only-of-type {\n",
              "        vertical-align: middle;\n",
              "    }\n",
              "\n",
              "    .dataframe tbody tr th {\n",
              "        vertical-align: top;\n",
              "    }\n",
              "\n",
              "    .dataframe thead th {\n",
              "        text-align: right;\n",
              "    }\n",
              "</style>\n",
              "<table border=\"1\" class=\"dataframe\">\n",
              "  <thead>\n",
              "    <tr style=\"text-align: right;\">\n",
              "      <th></th>\n",
              "      <th></th>\n",
              "      <th>Total</th>\n",
              "    </tr>\n",
              "    <tr>\n",
              "      <th>State</th>\n",
              "      <th>Gender</th>\n",
              "      <th></th>\n",
              "    </tr>\n",
              "  </thead>\n",
              "  <tbody>\n",
              "    <tr>\n",
              "      <th rowspan=\"2\" valign=\"top\">A &amp; N Islands</th>\n",
              "      <th>Female</th>\n",
              "      <td>2750</td>\n",
              "    </tr>\n",
              "    <tr>\n",
              "      <th>Male</th>\n",
              "      <td>5359</td>\n",
              "    </tr>\n",
              "    <tr>\n",
              "      <th rowspan=\"2\" valign=\"top\">Andhra Pradesh</th>\n",
              "      <th>Female</th>\n",
              "      <td>271939</td>\n",
              "    </tr>\n",
              "    <tr>\n",
              "      <th>Male</th>\n",
              "      <td>542120</td>\n",
              "    </tr>\n",
              "    <tr>\n",
              "      <th>Arunachal Pradesh</th>\n",
              "      <th>Female</th>\n",
              "      <td>1954</td>\n",
              "    </tr>\n",
              "    <tr>\n",
              "      <th>...</th>\n",
              "      <th>...</th>\n",
              "      <td>...</td>\n",
              "    </tr>\n",
              "    <tr>\n",
              "      <th>Uttar Pradesh</th>\n",
              "      <th>Male</th>\n",
              "      <td>125327</td>\n",
              "    </tr>\n",
              "    <tr>\n",
              "      <th rowspan=\"2\" valign=\"top\">Uttarakhand</th>\n",
              "      <th>Female</th>\n",
              "      <td>7548</td>\n",
              "    </tr>\n",
              "    <tr>\n",
              "      <th>Male</th>\n",
              "      <td>10948</td>\n",
              "    </tr>\n",
              "    <tr>\n",
              "      <th rowspan=\"2\" valign=\"top\">West Bengal</th>\n",
              "      <th>Female</th>\n",
              "      <td>365241</td>\n",
              "    </tr>\n",
              "    <tr>\n",
              "      <th>Male</th>\n",
              "      <td>484695</td>\n",
              "    </tr>\n",
              "  </tbody>\n",
              "</table>\n",
              "<p>76 rows × 1 columns</p>\n",
              "</div>"
            ],
            "text/plain": [
              "                           Total\n",
              "State             Gender        \n",
              "A & N Islands     Female    2750\n",
              "                  Male      5359\n",
              "Andhra Pradesh    Female  271939\n",
              "                  Male    542120\n",
              "Arunachal Pradesh Female    1954\n",
              "...                          ...\n",
              "Uttar Pradesh     Male    125327\n",
              "Uttarakhand       Female    7548\n",
              "                  Male     10948\n",
              "West Bengal       Female  365241\n",
              "                  Male    484695\n",
              "\n",
              "[76 rows x 1 columns]"
            ]
          },
          "execution_count": 45,
          "metadata": {},
          "output_type": "execute_result"
        }
      ],
      "source": [
        "data.groupby(['State','Gender'])[['Total']].sum()"
      ]
    },
    {
      "cell_type": "markdown",
      "metadata": {
        "id": "gr24fE-tAOmN"
      },
      "source": [
        "### Total Suicides In India Year-Gender Wise"
      ]
    },
    {
      "cell_type": "code",
      "execution_count": null,
      "metadata": {
        "id": "12Rb-11zAOmN",
        "outputId": "af1ab1f9-efe6-4ac0-c048-38ea06cac37f"
      },
      "outputs": [
        {
          "data": {
            "text/html": [
              "<div>\n",
              "<style scoped>\n",
              "    .dataframe tbody tr th:only-of-type {\n",
              "        vertical-align: middle;\n",
              "    }\n",
              "\n",
              "    .dataframe tbody tr th {\n",
              "        vertical-align: top;\n",
              "    }\n",
              "\n",
              "    .dataframe thead th {\n",
              "        text-align: right;\n",
              "    }\n",
              "</style>\n",
              "<table border=\"1\" class=\"dataframe\">\n",
              "  <thead>\n",
              "    <tr style=\"text-align: right;\">\n",
              "      <th></th>\n",
              "      <th></th>\n",
              "      <th>Total</th>\n",
              "    </tr>\n",
              "    <tr>\n",
              "      <th>Year</th>\n",
              "      <th>Gender</th>\n",
              "      <th></th>\n",
              "    </tr>\n",
              "  </thead>\n",
              "  <tbody>\n",
              "    <tr>\n",
              "      <th rowspan=\"2\" valign=\"top\">2001</th>\n",
              "      <th>Female</th>\n",
              "      <td>379645</td>\n",
              "    </tr>\n",
              "    <tr>\n",
              "      <th>Male</th>\n",
              "      <td>596819</td>\n",
              "    </tr>\n",
              "    <tr>\n",
              "      <th rowspan=\"2\" valign=\"top\">2002</th>\n",
              "      <th>Female</th>\n",
              "      <td>369675</td>\n",
              "    </tr>\n",
              "    <tr>\n",
              "      <th>Male</th>\n",
              "      <td>623973</td>\n",
              "    </tr>\n",
              "    <tr>\n",
              "      <th rowspan=\"2\" valign=\"top\">2003</th>\n",
              "      <th>Female</th>\n",
              "      <td>365657</td>\n",
              "    </tr>\n",
              "    <tr>\n",
              "      <th>Male</th>\n",
              "      <td>631965</td>\n",
              "    </tr>\n",
              "    <tr>\n",
              "      <th rowspan=\"2\" valign=\"top\">2004</th>\n",
              "      <th>Female</th>\n",
              "      <td>369297</td>\n",
              "    </tr>\n",
              "    <tr>\n",
              "      <th>Male</th>\n",
              "      <td>653840</td>\n",
              "    </tr>\n",
              "    <tr>\n",
              "      <th rowspan=\"2\" valign=\"top\">2005</th>\n",
              "      <th>Female</th>\n",
              "      <td>368980</td>\n",
              "    </tr>\n",
              "    <tr>\n",
              "      <th>Male</th>\n",
              "      <td>656221</td>\n",
              "    </tr>\n",
              "    <tr>\n",
              "      <th rowspan=\"2\" valign=\"top\">2006</th>\n",
              "      <th>Female</th>\n",
              "      <td>381677</td>\n",
              "    </tr>\n",
              "    <tr>\n",
              "      <th>Male</th>\n",
              "      <td>681314</td>\n",
              "    </tr>\n",
              "    <tr>\n",
              "      <th rowspan=\"2\" valign=\"top\">2007</th>\n",
              "      <th>Female</th>\n",
              "      <td>390032</td>\n",
              "    </tr>\n",
              "    <tr>\n",
              "      <th>Male</th>\n",
              "      <td>713635</td>\n",
              "    </tr>\n",
              "    <tr>\n",
              "      <th rowspan=\"2\" valign=\"top\">2008</th>\n",
              "      <th>Female</th>\n",
              "      <td>400202</td>\n",
              "    </tr>\n",
              "    <tr>\n",
              "      <th>Male</th>\n",
              "      <td>724880</td>\n",
              "    </tr>\n",
              "    <tr>\n",
              "      <th rowspan=\"2\" valign=\"top\">2009</th>\n",
              "      <th>Female</th>\n",
              "      <td>411050</td>\n",
              "    </tr>\n",
              "    <tr>\n",
              "      <th>Male</th>\n",
              "      <td>732983</td>\n",
              "    </tr>\n",
              "    <tr>\n",
              "      <th rowspan=\"2\" valign=\"top\">2010</th>\n",
              "      <th>Female</th>\n",
              "      <td>426705</td>\n",
              "    </tr>\n",
              "    <tr>\n",
              "      <th>Male</th>\n",
              "      <td>784617</td>\n",
              "    </tr>\n",
              "    <tr>\n",
              "      <th rowspan=\"2\" valign=\"top\">2011</th>\n",
              "      <th>Female</th>\n",
              "      <td>429688</td>\n",
              "    </tr>\n",
              "    <tr>\n",
              "      <th>Male</th>\n",
              "      <td>789811</td>\n",
              "    </tr>\n",
              "    <tr>\n",
              "      <th rowspan=\"2\" valign=\"top\">2012</th>\n",
              "      <th>Female</th>\n",
              "      <td>410366</td>\n",
              "    </tr>\n",
              "    <tr>\n",
              "      <th>Male</th>\n",
              "      <td>778702</td>\n",
              "    </tr>\n",
              "  </tbody>\n",
              "</table>\n",
              "</div>"
            ],
            "text/plain": [
              "              Total\n",
              "Year Gender        \n",
              "2001 Female  379645\n",
              "     Male    596819\n",
              "2002 Female  369675\n",
              "     Male    623973\n",
              "2003 Female  365657\n",
              "     Male    631965\n",
              "2004 Female  369297\n",
              "     Male    653840\n",
              "2005 Female  368980\n",
              "     Male    656221\n",
              "2006 Female  381677\n",
              "     Male    681314\n",
              "2007 Female  390032\n",
              "     Male    713635\n",
              "2008 Female  400202\n",
              "     Male    724880\n",
              "2009 Female  411050\n",
              "     Male    732983\n",
              "2010 Female  426705\n",
              "     Male    784617\n",
              "2011 Female  429688\n",
              "     Male    789811\n",
              "2012 Female  410366\n",
              "     Male    778702"
            ]
          },
          "execution_count": 46,
          "metadata": {},
          "output_type": "execute_result"
        }
      ],
      "source": [
        "data.groupby(['Year','Gender'])[['Total']].sum()"
      ]
    },
    {
      "cell_type": "markdown",
      "metadata": {
        "id": "LdJIGtSPAOmN"
      },
      "source": [
        "### Total Suicides In India State-Year-Gender Wise"
      ]
    },
    {
      "cell_type": "code",
      "execution_count": null,
      "metadata": {
        "id": "yNUHTdmAAOmN"
      },
      "outputs": [],
      "source": [
        "data.groupby(['State','Year','Gender'])[['Total']].sum().to_html('index.html')"
      ]
    },
    {
      "cell_type": "code",
      "execution_count": null,
      "metadata": {
        "id": "FiyWaEzvAOmN",
        "outputId": "8c2a6add-190c-4146-a498-b6843cca4a90"
      },
      "outputs": [
        {
          "data": {
            "text/plain": [
              "Type\n",
              "Married                                           3065322\n",
              "Primary                                           1088481\n",
              "Middle                                            1028913\n",
              "No Education                                       965271\n",
              "Never Married                                      954903\n",
              "                                                   ...   \n",
              "Bankruptcy or Sudden change in Economic Status       2655\n",
              "Illegitimate Pregnancy                               2494\n",
              "Ideological Causes/Hero Worshipping                  2118\n",
              "By Machine                                           1661\n",
              "Not having Children (Barrenness/Impotency             766\n",
              "Name: Total, Length: 69, dtype: int64"
            ]
          },
          "execution_count": 51,
          "metadata": {},
          "output_type": "execute_result"
        }
      ],
      "source": [
        "data.groupby('Type').Total.sum().sort_values(ascending=False)"
      ]
    },
    {
      "cell_type": "markdown",
      "metadata": {
        "id": "vqc_PZTSAOmN"
      },
      "source": [
        "### Machine Learning"
      ]
    },
    {
      "cell_type": "code",
      "execution_count": null,
      "metadata": {
        "id": "EOc4_ltSAOmN",
        "outputId": "2800b09c-ce41-406a-e2f7-53be67ebf902"
      },
      "outputs": [
        {
          "data": {
            "text/plain": [
              "Year\n",
              "2001     976464\n",
              "2002     993648\n",
              "2003     997622\n",
              "2004    1023137\n",
              "2005    1025201\n",
              "2006    1062991\n",
              "2007    1103667\n",
              "2008    1125082\n",
              "2009    1144033\n",
              "2010    1211322\n",
              "2011    1219499\n",
              "2012    1189068\n",
              "Name: Total, dtype: int64"
            ]
          },
          "execution_count": 54,
          "metadata": {},
          "output_type": "execute_result"
        }
      ],
      "source": [
        "D = data.groupby('Year').Total.sum()\n",
        "D"
      ]
    },
    {
      "cell_type": "code",
      "execution_count": null,
      "metadata": {
        "id": "Kg-VDPpbAOmN",
        "outputId": "d456ba07-f049-47f9-cff2-0399bca027da"
      },
      "outputs": [
        {
          "data": {
            "text/plain": [
              "array([[2001],\n",
              "       [2002],\n",
              "       [2003],\n",
              "       [2004],\n",
              "       [2005],\n",
              "       [2006],\n",
              "       [2007],\n",
              "       [2008],\n",
              "       [2009],\n",
              "       [2010],\n",
              "       [2011],\n",
              "       [2012]], dtype=int64)"
            ]
          },
          "execution_count": 57,
          "metadata": {},
          "output_type": "execute_result"
        }
      ],
      "source": [
        "x = D.index.values.reshape(-1,1)\n",
        "x"
      ]
    },
    {
      "cell_type": "code",
      "execution_count": null,
      "metadata": {
        "id": "in6RW6JyAOmN",
        "outputId": "12f86211-1757-45f8-d5fa-c61b5b3cc817"
      },
      "outputs": [
        {
          "data": {
            "text/plain": [
              "array([ 976464,  993648,  997622, 1023137, 1025201, 1062991, 1103667,\n",
              "       1125082, 1144033, 1211322, 1219499, 1189068], dtype=int64)"
            ]
          },
          "execution_count": 59,
          "metadata": {},
          "output_type": "execute_result"
        }
      ],
      "source": [
        "y = D.values\n",
        "y"
      ]
    },
    {
      "cell_type": "code",
      "execution_count": null,
      "metadata": {
        "id": "RMdsLFw4AOmN",
        "outputId": "1c06dc6f-73f6-490b-f507-37d99953af32"
      },
      "outputs": [
        {
          "data": {
            "image/png": "[encoded data removed]",
            "text/plain": [
              "<Figure size 432x288 with 1 Axes>"
            ]
          },
          "metadata": {
            "needs_background": "light"
          },
          "output_type": "display_data"
        }
      ],
      "source": [
        "plt.scatter(x,y)\n",
        "plt.xlabel('Year')\n",
        "plt.ylabel('Total Suicides')\n",
        "plt.show()"
      ]
    },
    {
      "cell_type": "code",
      "execution_count": null,
      "metadata": {
        "id": "LBSrqMIrAOmO",
        "outputId": "e9ef39b0-f82b-489b-d900-b0c0120e6778"
      },
      "outputs": [
        {
          "data": {
            "text/plain": [
              "LinearRegression()"
            ]
          },
          "execution_count": 64,
          "metadata": {},
          "output_type": "execute_result"
        }
      ],
      "source": [
        "from sklearn.linear_model import LinearRegression\n",
        "reg = LinearRegression()\n",
        "reg.fit(x,y)"
      ]
    },
    {
      "cell_type": "code",
      "execution_count": null,
      "metadata": {
        "id": "j5kwi6ekAOmO",
        "outputId": "b61d3305-b174-47c1-af9b-412f992740aa"
      },
      "outputs": [
        {
          "data": {
            "text/plain": [
              "array([23818.18881119])"
            ]
          },
          "execution_count": 65,
          "metadata": {},
          "output_type": "execute_result"
        }
      ],
      "source": [
        "reg.coef_"
      ]
    },
    {
      "cell_type": "code",
      "execution_count": null,
      "metadata": {
        "id": "ryWq_NA6AOmO",
        "outputId": "b335748d-b914-477b-e214-acbd4fe23b6a"
      },
      "outputs": [
        {
          "data": {
            "text/plain": [
              "-46701884.682983674"
            ]
          },
          "execution_count": 66,
          "metadata": {},
          "output_type": "execute_result"
        }
      ],
      "source": [
        "reg.intercept_"
      ]
    },
    {
      "cell_type": "code",
      "execution_count": null,
      "metadata": {
        "id": "-kxcdBbCAOmO",
        "outputId": "43c052f0-c501-4958-b348-ee93f08439bc"
      },
      "outputs": [
        {
          "data": {
            "text/plain": [
              "array([ 976464,  993648,  997622, 1023137, 1025201, 1062991, 1103667,\n",
              "       1125082, 1144033, 1211322, 1219499, 1189068], dtype=int64)"
            ]
          },
          "execution_count": 68,
          "metadata": {},
          "output_type": "execute_result"
        }
      ],
      "source": [
        "y"
      ]
    },
    {
      "cell_type": "code",
      "execution_count": null,
      "metadata": {
        "id": "g_XOTrTzAOmO",
        "outputId": "88f78678-1396-4d35-9b23-dba27a63379c"
      },
      "outputs": [
        {
          "data": {
            "text/plain": [
              "array([ 958311.12820512,  982129.31701631, 1005947.5058275 ,\n",
              "       1029765.69463869, 1053583.88344987, 1077402.07226107,\n",
              "       1101220.26107226, 1125038.44988345, 1148856.63869463,\n",
              "       1172674.82750582, 1196493.01631701, 1220311.2051282 ])"
            ]
          },
          "execution_count": 70,
          "metadata": {},
          "output_type": "execute_result"
        }
      ],
      "source": [
        "Yp = reg.predict(x)\n",
        "Yp"
      ]
    },
    {
      "cell_type": "code",
      "execution_count": null,
      "metadata": {
        "id": "_kv0I8ZEAOmO",
        "outputId": "76fedba2-6003-4bae-f044-2600072cc7de"
      },
      "outputs": [
        {
          "data": {
            "image/png": "[encoded data removed]",
            "text/plain": [
              "<Figure size 432x288 with 1 Axes>"
            ]
          },
          "metadata": {
            "needs_background": "light"
          },
          "output_type": "display_data"
        }
      ],
      "source": [
        "plt.scatter(x,y)\n",
        "plt.plot(x,Yp)\n",
        "plt.show()"
      ]
    },
    {
      "cell_type": "code",
      "execution_count": null,
      "metadata": {
        "id": "lXOyhgatAOmO",
        "outputId": "ac048e59-2866-4c4f-b057-256ed63f967b"
      },
      "outputs": [
        {
          "data": {
            "text/plain": [
              "94.61522633937145"
            ]
          },
          "execution_count": 72,
          "metadata": {},
          "output_type": "execute_result"
        }
      ],
      "source": [
        "reg.score(x,y) * 100"
      ]
    },
    {
      "cell_type": "code",
      "execution_count": null,
      "metadata": {
        "id": "1qN44ndXAOmO",
        "outputId": "c62c7e67-ef70-41e9-cda9-b6c73ba0520b"
      },
      "outputs": [
        {
          "data": {
            "text/plain": [
              "array([1410856.71561771])"
            ]
          },
          "execution_count": 73,
          "metadata": {},
          "output_type": "execute_result"
        }
      ],
      "source": [
        "reg.predict([[2020]])"
      ]
    },
    {
      "cell_type": "markdown",
      "metadata": {
        "id": "-qtHr8PVAOmO"
      },
      "source": [
        "### Polynomial Regression"
      ]
    },
    {
      "cell_type": "code",
      "execution_count": null,
      "metadata": {
        "id": "-G6I9zVjAOmO",
        "outputId": "6dabb852-ada1-4c44-a945-83a3a2af4336"
      },
      "outputs": [
        {
          "data": {
            "text/plain": [
              "array([[2001],\n",
              "       [2002],\n",
              "       [2003],\n",
              "       [2004],\n",
              "       [2005],\n",
              "       [2006],\n",
              "       [2007],\n",
              "       [2008],\n",
              "       [2009],\n",
              "       [2010],\n",
              "       [2011],\n",
              "       [2012]], dtype=int64)"
            ]
          },
          "execution_count": 74,
          "metadata": {},
          "output_type": "execute_result"
        }
      ],
      "source": [
        "x"
      ]
    },
    {
      "cell_type": "code",
      "execution_count": null,
      "metadata": {
        "id": "kuh_TmfgAOmO",
        "outputId": "ecd00068-6b4a-4adc-9d15-7b3b8e674f83"
      },
      "outputs": [
        {
          "data": {
            "text/plain": [
              "array([ 976464,  993648,  997622, 1023137, 1025201, 1062991, 1103667,\n",
              "       1125082, 1144033, 1211322, 1219499, 1189068], dtype=int64)"
            ]
          },
          "execution_count": 75,
          "metadata": {},
          "output_type": "execute_result"
        }
      ],
      "source": [
        "y"
      ]
    },
    {
      "cell_type": "code",
      "execution_count": null,
      "metadata": {
        "id": "IUdsYzZtAOmO",
        "outputId": "ad61b415-a1a5-4827-fc7c-0d91b02cb775"
      },
      "outputs": [
        {
          "data": {
            "text/html": [
              "<div>\n",
              "<style scoped>\n",
              "    .dataframe tbody tr th:only-of-type {\n",
              "        vertical-align: middle;\n",
              "    }\n",
              "\n",
              "    .dataframe tbody tr th {\n",
              "        vertical-align: top;\n",
              "    }\n",
              "\n",
              "    .dataframe thead th {\n",
              "        text-align: right;\n",
              "    }\n",
              "</style>\n",
              "<table border=\"1\" class=\"dataframe\">\n",
              "  <thead>\n",
              "    <tr style=\"text-align: right;\">\n",
              "      <th></th>\n",
              "      <th>0</th>\n",
              "      <th>1</th>\n",
              "      <th>2</th>\n",
              "      <th>3</th>\n",
              "      <th>4</th>\n",
              "      <th>5</th>\n",
              "    </tr>\n",
              "  </thead>\n",
              "  <tbody>\n",
              "    <tr>\n",
              "      <th>0</th>\n",
              "      <td>1.0</td>\n",
              "      <td>2001.0</td>\n",
              "      <td>4004001.0</td>\n",
              "      <td>8.012006e+09</td>\n",
              "      <td>1.603202e+13</td>\n",
              "      <td>3.208008e+16</td>\n",
              "    </tr>\n",
              "    <tr>\n",
              "      <th>1</th>\n",
              "      <td>1.0</td>\n",
              "      <td>2002.0</td>\n",
              "      <td>4008004.0</td>\n",
              "      <td>8.024024e+09</td>\n",
              "      <td>1.606410e+13</td>\n",
              "      <td>3.216032e+16</td>\n",
              "    </tr>\n",
              "    <tr>\n",
              "      <th>2</th>\n",
              "      <td>1.0</td>\n",
              "      <td>2003.0</td>\n",
              "      <td>4012009.0</td>\n",
              "      <td>8.036054e+09</td>\n",
              "      <td>1.609622e+13</td>\n",
              "      <td>3.224072e+16</td>\n",
              "    </tr>\n",
              "    <tr>\n",
              "      <th>3</th>\n",
              "      <td>1.0</td>\n",
              "      <td>2004.0</td>\n",
              "      <td>4016016.0</td>\n",
              "      <td>8.048096e+09</td>\n",
              "      <td>1.612838e+13</td>\n",
              "      <td>3.232128e+16</td>\n",
              "    </tr>\n",
              "    <tr>\n",
              "      <th>4</th>\n",
              "      <td>1.0</td>\n",
              "      <td>2005.0</td>\n",
              "      <td>4020025.0</td>\n",
              "      <td>8.060150e+09</td>\n",
              "      <td>1.616060e+13</td>\n",
              "      <td>3.240201e+16</td>\n",
              "    </tr>\n",
              "    <tr>\n",
              "      <th>5</th>\n",
              "      <td>1.0</td>\n",
              "      <td>2006.0</td>\n",
              "      <td>4024036.0</td>\n",
              "      <td>8.072216e+09</td>\n",
              "      <td>1.619287e+13</td>\n",
              "      <td>3.248289e+16</td>\n",
              "    </tr>\n",
              "    <tr>\n",
              "      <th>6</th>\n",
              "      <td>1.0</td>\n",
              "      <td>2007.0</td>\n",
              "      <td>4028049.0</td>\n",
              "      <td>8.084294e+09</td>\n",
              "      <td>1.622518e+13</td>\n",
              "      <td>3.256393e+16</td>\n",
              "    </tr>\n",
              "    <tr>\n",
              "      <th>7</th>\n",
              "      <td>1.0</td>\n",
              "      <td>2008.0</td>\n",
              "      <td>4032064.0</td>\n",
              "      <td>8.096385e+09</td>\n",
              "      <td>1.625754e+13</td>\n",
              "      <td>3.264514e+16</td>\n",
              "    </tr>\n",
              "    <tr>\n",
              "      <th>8</th>\n",
              "      <td>1.0</td>\n",
              "      <td>2009.0</td>\n",
              "      <td>4036081.0</td>\n",
              "      <td>8.108487e+09</td>\n",
              "      <td>1.628995e+13</td>\n",
              "      <td>3.272651e+16</td>\n",
              "    </tr>\n",
              "    <tr>\n",
              "      <th>9</th>\n",
              "      <td>1.0</td>\n",
              "      <td>2010.0</td>\n",
              "      <td>4040100.0</td>\n",
              "      <td>8.120601e+09</td>\n",
              "      <td>1.632241e+13</td>\n",
              "      <td>3.280804e+16</td>\n",
              "    </tr>\n",
              "    <tr>\n",
              "      <th>10</th>\n",
              "      <td>1.0</td>\n",
              "      <td>2011.0</td>\n",
              "      <td>4044121.0</td>\n",
              "      <td>8.132727e+09</td>\n",
              "      <td>1.635491e+13</td>\n",
              "      <td>3.288973e+16</td>\n",
              "    </tr>\n",
              "    <tr>\n",
              "      <th>11</th>\n",
              "      <td>1.0</td>\n",
              "      <td>2012.0</td>\n",
              "      <td>4048144.0</td>\n",
              "      <td>8.144866e+09</td>\n",
              "      <td>1.638747e+13</td>\n",
              "      <td>3.297159e+16</td>\n",
              "    </tr>\n",
              "  </tbody>\n",
              "</table>\n",
              "</div>"
            ],
            "text/plain": [
              "      0       1          2             3             4             5\n",
              "0   1.0  2001.0  4004001.0  8.012006e+09  1.603202e+13  3.208008e+16\n",
              "1   1.0  2002.0  4008004.0  8.024024e+09  1.606410e+13  3.216032e+16\n",
              "2   1.0  2003.0  4012009.0  8.036054e+09  1.609622e+13  3.224072e+16\n",
              "3   1.0  2004.0  4016016.0  8.048096e+09  1.612838e+13  3.232128e+16\n",
              "4   1.0  2005.0  4020025.0  8.060150e+09  1.616060e+13  3.240201e+16\n",
              "5   1.0  2006.0  4024036.0  8.072216e+09  1.619287e+13  3.248289e+16\n",
              "6   1.0  2007.0  4028049.0  8.084294e+09  1.622518e+13  3.256393e+16\n",
              "7   1.0  2008.0  4032064.0  8.096385e+09  1.625754e+13  3.264514e+16\n",
              "8   1.0  2009.0  4036081.0  8.108487e+09  1.628995e+13  3.272651e+16\n",
              "9   1.0  2010.0  4040100.0  8.120601e+09  1.632241e+13  3.280804e+16\n",
              "10  1.0  2011.0  4044121.0  8.132727e+09  1.635491e+13  3.288973e+16\n",
              "11  1.0  2012.0  4048144.0  8.144866e+09  1.638747e+13  3.297159e+16"
            ]
          },
          "execution_count": 79,
          "metadata": {},
          "output_type": "execute_result"
        }
      ],
      "source": [
        "from sklearn.preprocessing import PolynomialFeatures\n",
        "poly = PolynomialFeatures(degree=5)\n",
        "X = poly.fit_transform(x)\n",
        "pd.DataFrame(X)"
      ]
    },
    {
      "cell_type": "code",
      "execution_count": null,
      "metadata": {
        "id": "UOgdgPqkAOmO",
        "outputId": "f2593b74-ed86-463d-e520-1a25c9061e09"
      },
      "outputs": [
        {
          "data": {
            "text/plain": [
              "LinearRegression()"
            ]
          },
          "execution_count": 80,
          "metadata": {},
          "output_type": "execute_result"
        }
      ],
      "source": [
        "from sklearn.linear_model import LinearRegression\n",
        "reg = LinearRegression()\n",
        "reg.fit(X,y)"
      ]
    },
    {
      "cell_type": "code",
      "execution_count": null,
      "metadata": {
        "id": "_jcdtPhJAOmO",
        "outputId": "9ba77051-d11b-4377-943e-6f9968d20287"
      },
      "outputs": [
        {
          "data": {
            "text/plain": [
              "array([ 0.00000000e+00, -1.62973177e-01, -4.33987094e-01, -4.35396952e+02,\n",
              "        3.25443018e-01, -6.48679811e-05])"
            ]
          },
          "execution_count": 81,
          "metadata": {},
          "output_type": "execute_result"
        }
      ],
      "source": [
        "reg.coef_"
      ]
    },
    {
      "cell_type": "code",
      "execution_count": null,
      "metadata": {
        "id": "bEXpa1pgAOmP",
        "outputId": "98610ef9-634b-4102-b110-a472014a3f03"
      },
      "outputs": [
        {
          "data": {
            "text/plain": [
              "351865462099.17914"
            ]
          },
          "execution_count": 82,
          "metadata": {},
          "output_type": "execute_result"
        }
      ],
      "source": [
        "reg.intercept_"
      ]
    },
    {
      "cell_type": "code",
      "execution_count": null,
      "metadata": {
        "id": "F72tEy6RAOmP",
        "outputId": "671a4d30-553e-461a-afb9-1cada82ecf5d"
      },
      "outputs": [
        {
          "data": {
            "text/plain": [
              "array([ 976464,  993648,  997622, 1023137, 1025201, 1062991, 1103667,\n",
              "       1125082, 1144033, 1211322, 1219499, 1189068], dtype=int64)"
            ]
          },
          "execution_count": 84,
          "metadata": {},
          "output_type": "execute_result"
        }
      ],
      "source": [
        "y"
      ]
    },
    {
      "cell_type": "code",
      "execution_count": null,
      "metadata": {
        "id": "Agwf1zGnAOmP",
        "outputId": "7b3e6239-9600-44c1-b873-740a5656fc72"
      },
      "outputs": [
        {
          "data": {
            "text/plain": [
              "array([ 987173.28167725,  983550.14007568,  992415.55999756,\n",
              "       1011190.68695068, 1037288.89202881, 1068115.75042725,\n",
              "       1101069.04730225, 1133538.75628662, 1162907.04437256,\n",
              "       1186548.25628662, 1201828.90960693, 1206107.68695068])"
            ]
          },
          "execution_count": 85,
          "metadata": {},
          "output_type": "execute_result"
        }
      ],
      "source": [
        "Yp = reg.predict(X)\n",
        "Yp"
      ]
    },
    {
      "cell_type": "code",
      "execution_count": null,
      "metadata": {
        "id": "pReY5zbKAOmP",
        "outputId": "56dba8f4-1db0-404f-d3bf-efed7eceb191"
      },
      "outputs": [
        {
          "data": {
            "image/png": "[encoded data removed]",
            "text/plain": [
              "<Figure size 432x288 with 1 Axes>"
            ]
          },
          "metadata": {
            "needs_background": "light"
          },
          "output_type": "display_data"
        }
      ],
      "source": [
        "plt.scatter(x,y)\n",
        "plt.plot(x,Yp)\n",
        "plt.show()"
      ]
    },
    {
      "cell_type": "code",
      "execution_count": null,
      "metadata": {
        "id": "CFVRytziAOmP",
        "outputId": "f24d3c59-b6ca-47be-e124-bf3a39173f33"
      },
      "outputs": [
        {
          "data": {
            "text/plain": [
              "97.42287335355581"
            ]
          },
          "execution_count": 88,
          "metadata": {},
          "output_type": "execute_result"
        }
      ],
      "source": [
        "reg.score(X,y) * 100"
      ]
    },
    {
      "cell_type": "code",
      "execution_count": null,
      "metadata": {
        "id": "QC46ty3iAOmP",
        "outputId": "42a18ff3-7e2d-4649-f732-95f22fa0e0be"
      },
      "outputs": [
        {
          "data": {
            "text/plain": [
              "array([[1.00000000e+00, 2.02000000e+03, 4.08040000e+06, 8.24240800e+09,\n",
              "        1.66496642e+13, 3.36323216e+16]])"
            ]
          },
          "execution_count": 91,
          "metadata": {},
          "output_type": "execute_result"
        }
      ],
      "source": [
        "val = poly.transform([[2020]])\n",
        "val"
      ]
    },
    {
      "cell_type": "code",
      "execution_count": null,
      "metadata": {
        "id": "FqevlqyrAOmP",
        "outputId": "3e8535d5-3690-4e9a-bd0d-ca38c187433c"
      },
      "outputs": [
        {
          "data": {
            "text/plain": [
              "array([524720.29534912])"
            ]
          },
          "execution_count": 92,
          "metadata": {},
          "output_type": "execute_result"
        }
      ],
      "source": [
        "reg.predict(val)"
      ]
    },
    {
      "cell_type": "code",
      "execution_count": null,
      "metadata": {
        "id": "0aAxL3QAAOmP"
      },
      "outputs": [],
      "source": []
    }
  ],
  "metadata": {
    "kernelspec": {
      "display_name": "Python 3",
      "language": "python",
      "name": "python3"
    },
    "language_info": {
      "codemirror_mode": {
        "name": "ipython",
        "version": 3
      },
      "file_extension": ".py",
      "mimetype": "text/x-python",
      "name": "python",
      "nbconvert_exporter": "python",
      "pygments_lexer": "ipython3",
      "version": "3.7.2"
    },
    "colab": {
      "provenance": [],
      "collapsed_sections": [
        "bK7BoFEEAOmK",
        "fU0C8YJPAOmL",
        "NbV3kxJnAOmM",
        "UmiY5V_OAOmM",
        "-m_J6Hq2AOmN",
        "gr24fE-tAOmN",
        "LdJIGtSPAOmN",
        "vqc_PZTSAOmN"
      ],
      "include_colab_link": true
    }
  },
  "nbformat": 4,
  "nbformat_minor": 0
}